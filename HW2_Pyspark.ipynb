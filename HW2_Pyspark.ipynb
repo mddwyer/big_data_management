{
 "cells": [
  {
   "cell_type": "code",
   "execution_count": 1,
   "metadata": {},
   "outputs": [
    {
     "data": {
      "text/html": [
       "\n",
       "        <div>\n",
       "            <p><b>SparkContext</b></p>\n",
       "\n",
       "            <p><a href=\"http://172-16-26-41.dynapool.nyu.edu:4044\">Spark UI</a></p>\n",
       "\n",
       "            <dl>\n",
       "              <dt>Version</dt>\n",
       "                <dd><code>v2.3.1</code></dd>\n",
       "              <dt>Master</dt>\n",
       "                <dd><code>local[*]</code></dd>\n",
       "              <dt>AppName</dt>\n",
       "                <dd><code>PySparkShell</code></dd>\n",
       "            </dl>\n",
       "        </div>\n",
       "        "
      ],
      "text/plain": [
       "<SparkContext master=local[*] appName=PySparkShell>"
      ]
     },
     "execution_count": 1,
     "metadata": {},
     "output_type": "execute_result"
    }
   ],
   "source": [
    "sc"
   ]
  },
  {
   "cell_type": "code",
   "execution_count": 2,
   "metadata": {},
   "outputs": [],
   "source": [
    "inspections = sc.textFile('nyc_restaurant_inspections.csv')"
   ]
  },
  {
   "cell_type": "code",
   "execution_count": 3,
   "metadata": {},
   "outputs": [
    {
     "data": {
      "text/plain": [
       "[(0, 'CAMIS'),\n",
       " (1, 'DBA'),\n",
       " (2, 'BORO'),\n",
       " (3, 'BUILDING'),\n",
       " (4, 'STREET'),\n",
       " (5, 'ZIPCODE'),\n",
       " (6, 'PHONE'),\n",
       " (7, 'CUISINE DESCRIPTION'),\n",
       " (8, 'INSPECTION DATE'),\n",
       " (9, 'ACTION'),\n",
       " (10, 'VIOLATION CODE'),\n",
       " (11, 'VIOLATION DESCRIPTION'),\n",
       " (12, 'CRITICAL FLAG'),\n",
       " (13, 'SCORE'),\n",
       " (14, 'GRADE'),\n",
       " (15, 'GRADE DATE'),\n",
       " (16, 'RECORD DATE'),\n",
       " (17, 'INSPECTION TYPE')]"
      ]
     },
     "execution_count": 3,
     "metadata": {},
     "output_type": "execute_result"
    }
   ],
   "source": [
    "list(enumerate(inspections.first().split(',')))"
   ]
  },
  {
   "cell_type": "code",
   "execution_count": 4,
   "metadata": {},
   "outputs": [
    {
     "data": {
      "text/plain": [
       "[(50015075, 'Chicken'),\n",
       " (40364529, 'Jewish/Kosher'),\n",
       " (41580756, 'Caribbean'),\n",
       " (50001255, 'Italian'),\n",
       " (50016437, 'Korean')]"
      ]
     },
     "execution_count": 4,
     "metadata": {},
     "output_type": "execute_result"
    }
   ],
   "source": [
    "def extractDesc(partId, records):\n",
    "    if partId==0:\n",
    "        next(records)\n",
    "    import csv\n",
    "    reader = csv.reader(records)\n",
    "    for row in reader:\n",
    "        (camis,desc) = (int(row[0]), row[7])\n",
    "        yield (camis, desc)\n",
    "\n",
    "# each occurrence of a cami with its description\n",
    "desc = inspections.mapPartitionsWithIndex(extractDesc)\n",
    "desc.take(5)"
   ]
  },
  {
   "cell_type": "code",
   "execution_count": 5,
   "metadata": {},
   "outputs": [
    {
     "data": {
      "text/plain": [
       "[(50015075, 12),\n",
       " (50001255, 13),\n",
       " (50015315, 50),\n",
       " (50008170, 30),\n",
       " (50000045, 29)]"
      ]
     },
     "execution_count": 5,
     "metadata": {},
     "output_type": "execute_result"
    }
   ],
   "source": [
    "# group by cami, with the count\n",
    "camis = desc.map(lambda x: (x[0],1)).reduceByKey(lambda x,y: x+y)\n",
    "camis.take(5)"
   ]
  },
  {
   "cell_type": "code",
   "execution_count": 6,
   "metadata": {},
   "outputs": [
    {
     "data": {
      "text/plain": [
       "[('American', 6002),\n",
       " ('Thai', 286),\n",
       " ('CafÃ©/Coffee/Tea', 1629),\n",
       " ('Polish', 27),\n",
       " ('Polynesian', 1),\n",
       " ('Chinese', 2399),\n",
       " ('Continental', 55),\n",
       " ('Peruvian', 74),\n",
       " ('French', 319),\n",
       " ('Fruits/Vegetables', 4),\n",
       " ('Sandwiches/Salads/Mixed Buffet', 253),\n",
       " ('Seafood', 181),\n",
       " ('Czech', 3),\n",
       " ('Delicatessen', 294),\n",
       " ('Juice, Smoothies, Fruit Salads', 382),\n",
       " ('Hamburgers', 378),\n",
       " ('Irish', 187),\n",
       " ('Bagels/Pretzels', 176),\n",
       " ('Barbecue', 50),\n",
       " ('Australian', 18),\n",
       " ('English', 16),\n",
       " ('Not Listed/Not Applicable', 11),\n",
       " ('Mexican', 877),\n",
       " ('Greek', 138),\n",
       " ('Vietnamese/Cambodian/Malaysia', 83),\n",
       " ('Indonesian', 9),\n",
       " ('Hotdogs', 32),\n",
       " ('Hawaiian', 32),\n",
       " ('Brazilian', 27),\n",
       " ('Soups', 5),\n",
       " ('Basque', 2),\n",
       " ('Bakery', 733),\n",
       " ('Steak', 85),\n",
       " ('Middle Eastern', 175),\n",
       " ('Pizza', 1186),\n",
       " ('Turkish', 62),\n",
       " ('Bangladeshi', 41),\n",
       " ('Armenian', 36),\n",
       " ('Nuts/Confectionary', 5),\n",
       " ('Californian', 6),\n",
       " ('Moroccan', 13),\n",
       " ('Iranian', 3),\n",
       " ('Latin (Cuban, Dominican, Puerto Rican, South & Central American)', 840),\n",
       " ('Chicken', 456),\n",
       " ('Spanish', 644),\n",
       " ('Sandwiches', 406),\n",
       " ('Creole', 26),\n",
       " ('Tex-Mex', 133),\n",
       " ('Creole/Cajun', 5),\n",
       " ('Soups & Sandwiches', 44),\n",
       " ('Ethiopian', 16),\n",
       " ('Russian', 82),\n",
       " ('Chinese/Japanese', 46),\n",
       " ('Tapas', 36),\n",
       " ('Pancakes/Waffles', 18),\n",
       " ('Southwestern', 6),\n",
       " ('Eastern European', 74),\n",
       " ('Afghan', 16),\n",
       " ('Portuguese', 9),\n",
       " ('Other', 1296),\n",
       " ('Pizza/Italian', 483),\n",
       " ('Asian', 371),\n",
       " ('Bottled beverages, including water, sodas, juices, etc.', 99),\n",
       " ('Pakistani', 33),\n",
       " ('Cajun', 10),\n",
       " ('Filipino', 32),\n",
       " ('Chilean', 3),\n",
       " ('Indian', 332),\n",
       " ('Korean', 276),\n",
       " ('Ice Cream, Gelato, Yogurt, Ices', 339),\n",
       " ('Donuts', 537),\n",
       " ('Mediterranean', 253),\n",
       " ('Jewish/Kosher', 327),\n",
       " ('African', 71),\n",
       " ('Salads', 69),\n",
       " ('German', 35),\n",
       " ('Vegetarian', 106),\n",
       " ('Egyptian', 13),\n",
       " ('Soul Food', 56),\n",
       " ('Caribbean', 671),\n",
       " ('Italian', 1016),\n",
       " ('Japanese', 859),\n",
       " ('Hotdogs/Pretzels', 21),\n",
       " ('Chinese/Cuban', 19),\n",
       " ('Scandinavian', 5)]"
      ]
     },
     "execution_count": 6,
     "metadata": {},
     "output_type": "execute_result"
    }
   ],
   "source": [
    "# join cami and count with cami and description\n",
    "# groupby cami to get unique values, and select only counts and descriptions\n",
    "# set description as key, and set count to 1, as each cami is 1 restaraunt\n",
    "# groupby description, adding counts for each description\n",
    "\n",
    "desc_grouped = camis.join(desc).reduceByKey(lambda x,y:y).values().map(lambda x: (x[1], 1)).reduceByKey(lambda x,y: x+y)\n",
    "desc_grouped.take(500)"
   ]
  },
  {
   "cell_type": "code",
   "execution_count": null,
   "metadata": {},
   "outputs": [],
   "source": []
  }
 ],
 "metadata": {
  "kernelspec": {
   "display_name": "Python 3",
   "language": "python",
   "name": "python3"
  },
  "language_info": {
   "codemirror_mode": {
    "name": "ipython",
    "version": 3
   },
   "file_extension": ".py",
   "mimetype": "text/x-python",
   "name": "python",
   "nbconvert_exporter": "python",
   "pygments_lexer": "ipython3",
   "version": "3.6.4"
  }
 },
 "nbformat": 4,
 "nbformat_minor": 2
}
